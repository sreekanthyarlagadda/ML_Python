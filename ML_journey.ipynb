{
  "nbformat": 4,
  "nbformat_minor": 0,
  "metadata": {
    "colab": {
      "provenance": [],
      "name": "ML_journey.ipynb",
      "include_colab_link": true
    },
    "kernelspec": {
      "name": "python3",
      "display_name": "Python 3"
    },
    "language_info": {
      "name": "python"
    }
  },
  "cells": [
    {
      "cell_type": "markdown",
      "metadata": {
        "id": "view-in-github",
        "colab_type": "text"
      },
      "source": [
        "<a href=\"https://colab.research.google.com/github/sreekanthyarlagadda/ML_Python/blob/main/ML_journey.ipynb\" target=\"_parent\"><img src=\"https://colab.research.google.com/assets/colab-badge.svg\" alt=\"Open In Colab\"/></a>"
      ]
    },
    {
      "cell_type": "markdown",
      "source": [
        "**DAY 1**"
      ],
      "metadata": {
        "id": "-7uodATjztek"
      }
    },
    {
      "cell_type": "code",
      "source": [
        "print(\"hello world\")"
      ],
      "metadata": {
        "colab": {
          "base_uri": "https://localhost:8080/"
        },
        "id": "l0HV-jypzy8z",
        "outputId": "2c000b38-2c49-4bea-998f-814dd134ea85"
      },
      "execution_count": null,
      "outputs": [
        {
          "output_type": "stream",
          "name": "stdout",
          "text": [
            "hello world\n"
          ]
        }
      ]
    },
    {
      "cell_type": "code",
      "source": [
        "a=100             # python uses same ID if the variable value is same. here  print(id(a)) , print(id(b)), print(id(c)) result is same.\n",
        "print(id(a))      # because a=b=c=100"
      ],
      "metadata": {
        "colab": {
          "base_uri": "https://localhost:8080/"
        },
        "id": "ULl7aHlLHlb-",
        "outputId": "0f68a2b9-6c52-4778-b13a-999d19b2ddd6"
      },
      "execution_count": null,
      "outputs": [
        {
          "output_type": "stream",
          "name": "stdout",
          "text": [
            "10754024\n"
          ]
        }
      ]
    },
    {
      "cell_type": "code",
      "source": [
        "b=100\n",
        "print(id(b))"
      ],
      "metadata": {
        "colab": {
          "base_uri": "https://localhost:8080/"
        },
        "id": "1mCCZvX1Hzz1",
        "outputId": "81c3b3b5-798c-479d-d3e9-0e47865d4e20"
      },
      "execution_count": null,
      "outputs": [
        {
          "output_type": "stream",
          "name": "stdout",
          "text": [
            "10754024\n"
          ]
        }
      ]
    },
    {
      "cell_type": "code",
      "source": [
        "c=100\n",
        "print(id(c))"
      ],
      "metadata": {
        "colab": {
          "base_uri": "https://localhost:8080/"
        },
        "id": "VaDiMm-yH6d_",
        "outputId": "e92c633c-38a7-4920-db5a-d946f692cbff"
      },
      "execution_count": null,
      "outputs": [
        {
          "output_type": "stream",
          "name": "stdout",
          "text": [
            "10754024\n"
          ]
        }
      ]
    },
    {
      "cell_type": "code",
      "source": [
        "a,b,c=10,20,30\n",
        "print(a,b,c)"
      ],
      "metadata": {
        "colab": {
          "base_uri": "https://localhost:8080/"
        },
        "id": "pTrxIQtCH-aN",
        "outputId": "4c86611b-1ca3-4076-e53b-01f0a56c88f4"
      },
      "execution_count": null,
      "outputs": [
        {
          "output_type": "stream",
          "name": "stdout",
          "text": [
            "10 20 30\n"
          ]
        }
      ]
    },
    {
      "cell_type": "code",
      "source": [
        "a=b=c=10  # varaible assignment\n",
        "print(a,b,c)"
      ],
      "metadata": {
        "colab": {
          "base_uri": "https://localhost:8080/"
        },
        "id": "KZx-BrAgIml6",
        "outputId": "b042a0d4-169c-478f-e5cb-9741396fe558"
      },
      "execution_count": null,
      "outputs": [
        {
          "output_type": "stream",
          "name": "stdout",
          "text": [
            "10 10 10\n"
          ]
        }
      ]
    },
    {
      "cell_type": "code",
      "source": [
        "print(\"Sreekanth Yarlagadda\")"
      ],
      "metadata": {
        "colab": {
          "base_uri": "https://localhost:8080/"
        },
        "id": "qbn6bDSi7Xcr",
        "outputId": "4709b663-718d-4818-c8fe-99180200826b"
      },
      "execution_count": null,
      "outputs": [
        {
          "output_type": "stream",
          "name": "stdout",
          "text": [
            "Sreekanth Yarlagadda\n"
          ]
        }
      ]
    },
    {
      "cell_type": "code",
      "source": [
        "# multiline comment\n",
        "\n",
        "\"\"\" kjhaksjdhjh\n",
        "  ajsdfjasdjf\n",
        "  asjdf.jahsdfjk\n",
        "  asjkjhaskdfjh \"\"\"\n",
        "\n",
        "print(\"hi\")"
      ],
      "metadata": {
        "id": "34ZbDQBAxLWX",
        "colab": {
          "base_uri": "https://localhost:8080/"
        },
        "outputId": "d128f3d2-85e8-4142-d5ee-98fbf8c0788d"
      },
      "execution_count": null,
      "outputs": [
        {
          "output_type": "stream",
          "name": "stdout",
          "text": [
            "hi\n"
          ]
        }
      ]
    },
    {
      "cell_type": "markdown",
      "source": [
        "**DAY 2**"
      ],
      "metadata": {
        "id": "xrug_UZOz-ga"
      }
    },
    {
      "cell_type": "code",
      "source": [
        "import keyword as kw\n",
        "print(kw.kwlist)"
      ],
      "metadata": {
        "colab": {
          "base_uri": "https://localhost:8080/"
        },
        "id": "VkT-DxUnL_W_",
        "outputId": "630969cc-0c49-49fc-9747-5519cb2c88a4"
      },
      "execution_count": null,
      "outputs": [
        {
          "output_type": "stream",
          "name": "stdout",
          "text": [
            "['False', 'None', 'True', 'and', 'as', 'assert', 'async', 'await', 'break', 'class', 'continue', 'def', 'del', 'elif', 'else', 'except', 'finally', 'for', 'from', 'global', 'if', 'import', 'in', 'is', 'lambda', 'nonlocal', 'not', 'or', 'pass', 'raise', 'return', 'try', 'while', 'with', 'yield']\n"
          ]
        }
      ]
    },
    {
      "cell_type": "code",
      "source": [
        "False=10      # you can't use kaeyword as a variable name\n",
        "print(False)"
      ],
      "metadata": {
        "colab": {
          "base_uri": "https://localhost:8080/",
          "height": 106
        },
        "id": "a76Jcg89MJhl",
        "outputId": "8d3522c7-ca64-4acc-a8b1-3a6b23fc8cf7"
      },
      "execution_count": null,
      "outputs": [
        {
          "output_type": "error",
          "ename": "SyntaxError",
          "evalue": "cannot assign to False (<ipython-input-2-a9b307c5edad>, line 1)",
          "traceback": [
            "\u001b[0;36m  File \u001b[0;32m\"<ipython-input-2-a9b307c5edad>\"\u001b[0;36m, line \u001b[0;32m1\u001b[0m\n\u001b[0;31m    False=10\u001b[0m\n\u001b[0m    ^\u001b[0m\n\u001b[0;31mSyntaxError\u001b[0m\u001b[0;31m:\u001b[0m cannot assign to False\n"
          ]
        }
      ]
    },
    {
      "cell_type": "code",
      "source": [
        "a= 'NTT'  # string allows single or double codes\n",
        "print(a)"
      ],
      "metadata": {
        "colab": {
          "base_uri": "https://localhost:8080/"
        },
        "id": "nj9dObOANB2E",
        "outputId": "c1dc6ed2-6295-4b99-d1e8-5229ded261b6"
      },
      "execution_count": null,
      "outputs": [
        {
          "output_type": "stream",
          "name": "stdout",
          "text": [
            "NTT\n"
          ]
        }
      ]
    },
    {
      "cell_type": "code",
      "source": [
        "b= \"DATA\"\n",
        "print(b)"
      ],
      "metadata": {
        "colab": {
          "base_uri": "https://localhost:8080/"
        },
        "id": "YcPd4uDVNJtj",
        "outputId": "46d40001-d9e6-429b-8dac-b43a57113a0a"
      },
      "execution_count": null,
      "outputs": [
        {
          "output_type": "stream",
          "name": "stdout",
          "text": [
            "DATA\n"
          ]
        }
      ]
    },
    {
      "cell_type": "code",
      "source": [
        "s = \"NTT DATA\"   # positive index value\n",
        "print(s[7])"
      ],
      "metadata": {
        "colab": {
          "base_uri": "https://localhost:8080/"
        },
        "id": "Ah2GUDcFOPS_",
        "outputId": "5c9b5eb4-b482-4842-e50f-934fe1c3c14a"
      },
      "execution_count": null,
      "outputs": [
        {
          "output_type": "stream",
          "name": "stdout",
          "text": [
            "A\n"
          ]
        }
      ]
    },
    {
      "cell_type": "code",
      "source": [
        "s = \"NTT DATA\"    # negative index value\n",
        "print(s[-8])"
      ],
      "metadata": {
        "colab": {
          "base_uri": "https://localhost:8080/"
        },
        "id": "L7x-pfrkOeoF",
        "outputId": "da537c93-75ba-4572-e692-cff9b0eae869"
      },
      "execution_count": null,
      "outputs": [
        {
          "output_type": "stream",
          "name": "stdout",
          "text": [
            "N\n"
          ]
        }
      ]
    },
    {
      "cell_type": "markdown",
      "source": [
        "**DAY 3**"
      ],
      "metadata": {
        "id": "Jup1LJVQvvjm"
      }
    },
    {
      "cell_type": "code",
      "source": [
        "\n",
        "list = [10,20.3,\"NTT\",3+4j]    # creating a simple list (mutable(can be altered) and ordered)\n",
        "print(list)                    # collection of sequence of elements of different data types\n",
        "print(type(list))"
      ],
      "metadata": {
        "colab": {
          "base_uri": "https://localhost:8080/"
        },
        "id": "PAIZPvR5SC8i",
        "outputId": "9567911f-725e-4329-9494-f10b0e79afa9"
      },
      "execution_count": null,
      "outputs": [
        {
          "output_type": "stream",
          "name": "stdout",
          "text": [
            "[10, 20.3, 'NTT', (3+4j)]\n",
            "<class 'list'>\n"
          ]
        }
      ]
    },
    {
      "cell_type": "code",
      "source": [
        "a = 3+4j\n",
        "b=3.14\n",
        "print(type(a))\n",
        "print(type(b))"
      ],
      "metadata": {
        "colab": {
          "base_uri": "https://localhost:8080/"
        },
        "id": "En7zH_6uSman",
        "outputId": "ee9483ab-d114-4139-f62f-d9585c9a7616"
      },
      "execution_count": null,
      "outputs": [
        {
          "output_type": "stream",
          "name": "stdout",
          "text": [
            "<class 'complex'>\n",
            "<class 'float'>\n"
          ]
        }
      ]
    },
    {
      "cell_type": "code",
      "source": [
        "#isinstance    # The isinstance() function returns True if the specified object is of the specified type, otherwise False.\n",
        "a=10\n",
        "print(isinstance(a,float))"
      ],
      "metadata": {
        "colab": {
          "base_uri": "https://localhost:8080/"
        },
        "id": "jCQ7wuYxTkRh",
        "outputId": "16a369e7-af27-4d5e-ee2e-a0bfeb58e2e2"
      },
      "execution_count": null,
      "outputs": [
        {
          "output_type": "stream",
          "name": "stdout",
          "text": [
            "False\n"
          ]
        }
      ]
    },
    {
      "cell_type": "code",
      "source": [
        "# variable annotations     # it tells developers the data type of variables or function parameters\n",
        "name: str = \"sreekanth\"\n",
        "print(name)\n",
        "print(type(name))\n",
        "print(__annotations__['name'])\n"
      ],
      "metadata": {
        "colab": {
          "base_uri": "https://localhost:8080/"
        },
        "id": "7rvvM73_UTml",
        "outputId": "5a06a3bd-f14e-4193-adfc-12454ddcf652"
      },
      "execution_count": null,
      "outputs": [
        {
          "output_type": "stream",
          "name": "stdout",
          "text": [
            "sreekanth\n",
            "<class 'str'>\n",
            "<class 'str'>\n"
          ]
        }
      ]
    },
    {
      "cell_type": "code",
      "source": [
        "aaa: int =3+4j\n",
        "print(aaa)\n",
        "print(__annotations__['aaa'])\n",
        "print(type(aaa))        # type function return the datatype class which is depends on the variable value"
      ],
      "metadata": {
        "colab": {
          "base_uri": "https://localhost:8080/"
        },
        "id": "s-FTUaEZVUy8",
        "outputId": "427bf8bb-97ef-453f-abc4-804defe14c9d"
      },
      "execution_count": null,
      "outputs": [
        {
          "output_type": "stream",
          "name": "stdout",
          "text": [
            "(3+4j)\n",
            "<class 'int'>\n",
            "<class 'complex'>\n"
          ]
        }
      ]
    },
    {
      "cell_type": "code",
      "source": [
        "aa: float =10\n",
        "print(aa)\n",
        "print(type(aa))\n",
        "print(__annotations__['aa'])"
      ],
      "metadata": {
        "colab": {
          "base_uri": "https://localhost:8080/"
        },
        "id": "b9k0RvuMWMcB",
        "outputId": "c6d23e3d-03c4-4e4f-b08a-cb1d6b09fef9"
      },
      "execution_count": null,
      "outputs": [
        {
          "output_type": "stream",
          "name": "stdout",
          "text": [
            "10\n",
            "<class 'int'>\n",
            "<class 'float'>\n"
          ]
        }
      ]
    },
    {
      "cell_type": "code",
      "source": [
        "t = (10,20.3,\"NTT\",3+4j)    # creating a simple tuple (immutable(can't be altered)and ordered)\n",
        "print(t)                    # collection of sequence of elements of different data types\n",
        "print(type(t))"
      ],
      "metadata": {
        "colab": {
          "base_uri": "https://localhost:8080/"
        },
        "id": "jzWwh6p2YwW-",
        "outputId": "30aebf38-cbeb-49ca-82b8-71f770f634e0"
      },
      "execution_count": null,
      "outputs": [
        {
          "output_type": "stream",
          "name": "stdout",
          "text": [
            "(10, 20.3, 'NTT', (3+4j))\n",
            "<class 'tuple'>\n"
          ]
        }
      ]
    },
    {
      "cell_type": "code",
      "source": [
        "d = {'a':1, 'bus':2, 3.14:3}      # dictionary has unordered set of key, value pairs.\n",
        "print(d)                          # first one is key and second one is value\n",
        "print(type(d))"
      ],
      "metadata": {
        "id": "lqWlygtbc6JZ",
        "colab": {
          "base_uri": "https://localhost:8080/"
        },
        "outputId": "7383080e-78c6-4541-d49c-a1f41734a4fc"
      },
      "execution_count": null,
      "outputs": [
        {
          "output_type": "stream",
          "name": "stdout",
          "text": [
            "{'a': 1, 'bus': 2, 3.14: 3}\n",
            "<class 'dict'>\n"
          ]
        }
      ]
    },
    {
      "cell_type": "code",
      "source": [
        "e = {'ashok':25, 's':[2,3,6], 2:'one', 'd':(11,22,33)}    # key is primitive data type(int,float, char, str)\n",
        "print(e)                                                  # value is primitive data type and be a list or tuple or dictionary.\n",
        "print(type(e))"
      ],
      "metadata": {
        "colab": {
          "base_uri": "https://localhost:8080/"
        },
        "id": "GYdYiIH1DkQF",
        "outputId": "03cd4d31-3a0c-4273-b440-e2f24dc87484"
      },
      "execution_count": null,
      "outputs": [
        {
          "output_type": "stream",
          "name": "stdout",
          "text": [
            "{'ashok': 25, 's': [2, 3, 6], 2: 'one', 'd': (11, 22, 33)}\n",
            "<class 'dict'>\n"
          ]
        }
      ]
    },
    {
      "cell_type": "code",
      "source": [
        "s ={10,3.14,3+4j,\"hello\"}     # set is a unordered collection of unique items\n",
        "print(s)\n",
        "print(type(s))\n"
      ],
      "metadata": {
        "colab": {
          "base_uri": "https://localhost:8080/"
        },
        "id": "y9QLZMaWKSX-",
        "outputId": "08f4782a-2d1c-4b16-f867-6a17633c65cf"
      },
      "execution_count": null,
      "outputs": [
        {
          "output_type": "stream",
          "name": "stdout",
          "text": [
            "{'hello', 10, 3.14, (3+4j)}\n",
            "<class 'set'>\n"
          ]
        }
      ]
    },
    {
      "cell_type": "code",
      "source": [
        "for num in range(5):\n",
        "    print(num)"
      ],
      "metadata": {
        "colab": {
          "base_uri": "https://localhost:8080/"
        },
        "id": "gi2dzt0BQWPP",
        "outputId": "4032028b-8af9-4bb5-eb7a-08d26b21f7ed"
      },
      "execution_count": null,
      "outputs": [
        {
          "output_type": "stream",
          "name": "stdout",
          "text": [
            "0\n",
            "1\n",
            "2\n",
            "3\n",
            "4\n"
          ]
        }
      ]
    },
    {
      "cell_type": "code",
      "source": [
        "for num in range(10,21,2):      # range syntax range (start,stop,step). default starting value is 0 and step value is 1.\n",
        "  print(num)"
      ],
      "metadata": {
        "colab": {
          "base_uri": "https://localhost:8080/"
        },
        "id": "Pid9XzIrXpnf",
        "outputId": "11d6bd06-4690-4d37-cf86-0dcaa3c28bb1"
      },
      "execution_count": null,
      "outputs": [
        {
          "output_type": "stream",
          "name": "stdout",
          "text": [
            "10\n",
            "12\n",
            "14\n",
            "16\n",
            "18\n",
            "20\n"
          ]
        }
      ]
    },
    {
      "cell_type": "code",
      "source": [
        "for num in range(20,5,-2):\n",
        "  print(num)"
      ],
      "metadata": {
        "colab": {
          "base_uri": "https://localhost:8080/"
        },
        "id": "Nh6gluCYZlpz",
        "outputId": "dca68e28-10f0-4e82-d14c-fd9db8cdce75"
      },
      "execution_count": null,
      "outputs": [
        {
          "output_type": "stream",
          "name": "stdout",
          "text": [
            "20\n",
            "18\n",
            "16\n",
            "14\n",
            "12\n",
            "10\n",
            "8\n",
            "6\n"
          ]
        }
      ]
    },
    {
      "cell_type": "markdown",
      "source": [
        "**DAY 4**"
      ],
      "metadata": {
        "id": "NuFwEOWFyXXq"
      }
    },
    {
      "cell_type": "code",
      "source": [
        "# sub string\n",
        "#indexing\n",
        "#slicing syntax slice[start:stop:step]\n",
        "s = \"BANGALORE\"\n",
        "print(\"slicing of s:\", s[0:3:1])   # in positive slicing , start value should be smaller & stop value should be bigger\n",
        "print (s[-3:-9:-1])                # in negative slicing,  start value should be bigger & stop value should be smaller"
      ],
      "metadata": {
        "colab": {
          "base_uri": "https://localhost:8080/"
        },
        "id": "SNAPPh_KyQJr",
        "outputId": "fedca8c5-eae9-4c9a-ad2e-d379e1a9d4cf"
      },
      "execution_count": 4,
      "outputs": [
        {
          "output_type": "stream",
          "name": "stdout",
          "text": [
            "slicing of s: BAN\n",
            "OLAGNA\n"
          ]
        }
      ]
    },
    {
      "cell_type": "code",
      "source": [
        "# simple if statement\n",
        "if 10>15:\n",
        "  print(\"start of if\")\n",
        "  print(\"10 is greater than 15\")\n",
        "  print(\"end of if\")\n",
        "\n",
        "print(\"end of program\")\n"
      ],
      "metadata": {
        "id": "4I_VAolhA_XM",
        "outputId": "a9492667-a078-49de-d414-893f0e26c465",
        "colab": {
          "base_uri": "https://localhost:8080/"
        }
      },
      "execution_count": 7,
      "outputs": [
        {
          "output_type": "stream",
          "name": "stdout",
          "text": [
            "end of program\n"
          ]
        }
      ]
    },
    {
      "cell_type": "code",
      "source": [
        "# if else ladder\n",
        "s = input(\"enter a clour\")\n",
        "\n",
        "if s==\"red\":\n",
        "  print(\"stop\")\n",
        "elif s==\"yellow\":\n",
        "  print(\"ready\")\n",
        "elif s==\"green\":\n",
        "  print(\"go\")\n",
        "else:\n",
        "  print(\"invalid colour\")\n"
      ],
      "metadata": {
        "id": "Ji4UOnIeCGn3",
        "outputId": "3c1dc599-f829-423e-beca-08fee9fd63cf",
        "colab": {
          "base_uri": "https://localhost:8080/"
        }
      },
      "execution_count": 8,
      "outputs": [
        {
          "output_type": "stream",
          "name": "stdout",
          "text": [
            "enter a clourred\n",
            "stop\n"
          ]
        }
      ]
    },
    {
      "cell_type": "code",
      "source": [
        "# polydrom\n",
        "a=input(\"enter a string:\")\n",
        "b=a[-1::-1]\n",
        "if(a==b):\n",
        "  print(\"polydrom\")\n",
        "else:\n",
        "  print(\"not polydrom\")\n"
      ],
      "metadata": {
        "id": "7_PuJg65EWpT",
        "outputId": "da47138d-fc93-4d15-d586-db1c81301337",
        "colab": {
          "base_uri": "https://localhost:8080/"
        }
      },
      "execution_count": 9,
      "outputs": [
        {
          "output_type": "stream",
          "name": "stdout",
          "text": [
            "enter a string:hindi\n",
            "not polydrom\n"
          ]
        }
      ]
    },
    {
      "cell_type": "code",
      "source": [
        "text = input(\"enter a string\")\n",
        "revtext = text[::-1]\n",
        "\n",
        "if text == revtext:\n",
        "  print(\"polidrome\")\n",
        "else:\n",
        "  print(\"not a polidrome\")\n"
      ],
      "metadata": {
        "id": "Sy44kZpcFHtU",
        "outputId": "db7a2150-1edf-4013-81b1-4d58d732b550",
        "colab": {
          "base_uri": "https://localhost:8080/"
        }
      },
      "execution_count": 11,
      "outputs": [
        {
          "output_type": "stream",
          "name": "stdout",
          "text": [
            "enter a stringmalayalam\n",
            "polidrome\n"
          ]
        }
      ]
    }
  ]
}