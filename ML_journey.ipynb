{
  "nbformat": 4,
  "nbformat_minor": 0,
  "metadata": {
    "colab": {
      "provenance": [],
      "name": "ML_journey.ipynb",
      "include_colab_link": true
    },
    "kernelspec": {
      "name": "python3",
      "display_name": "Python 3"
    },
    "language_info": {
      "name": "python"
    }
  },
  "cells": [
    {
      "cell_type": "markdown",
      "metadata": {
        "id": "view-in-github",
        "colab_type": "text"
      },
      "source": [
        "<a href=\"https://colab.research.google.com/github/sreekanthyarlagadda/ML_Python/blob/main/ML_journey.ipynb\" target=\"_parent\"><img src=\"https://colab.research.google.com/assets/colab-badge.svg\" alt=\"Open In Colab\"/></a>"
      ]
    },
    {
      "cell_type": "markdown",
      "source": [
        "**DAY 1**"
      ],
      "metadata": {
        "id": "-7uodATjztek"
      }
    },
    {
      "cell_type": "code",
      "source": [
        "print(\"hello world\")"
      ],
      "metadata": {
        "colab": {
          "base_uri": "https://localhost:8080/"
        },
        "id": "l0HV-jypzy8z",
        "outputId": "2c000b38-2c49-4bea-998f-814dd134ea85"
      },
      "execution_count": null,
      "outputs": [
        {
          "output_type": "stream",
          "name": "stdout",
          "text": [
            "hello world\n"
          ]
        }
      ]
    },
    {
      "cell_type": "code",
      "source": [
        "a=100             # python uses same ID if the variable value is same. here  print(id(a)) , print(id(b)), print(id(c)) result is same.\n",
        "print(id(a))      # because a=b=c=100"
      ],
      "metadata": {
        "colab": {
          "base_uri": "https://localhost:8080/"
        },
        "id": "ULl7aHlLHlb-",
        "outputId": "0f68a2b9-6c52-4778-b13a-999d19b2ddd6"
      },
      "execution_count": null,
      "outputs": [
        {
          "output_type": "stream",
          "name": "stdout",
          "text": [
            "10754024\n"
          ]
        }
      ]
    },
    {
      "cell_type": "code",
      "source": [
        "b=100\n",
        "print(id(b))"
      ],
      "metadata": {
        "colab": {
          "base_uri": "https://localhost:8080/"
        },
        "id": "1mCCZvX1Hzz1",
        "outputId": "81c3b3b5-798c-479d-d3e9-0e47865d4e20"
      },
      "execution_count": null,
      "outputs": [
        {
          "output_type": "stream",
          "name": "stdout",
          "text": [
            "10754024\n"
          ]
        }
      ]
    },
    {
      "cell_type": "code",
      "source": [
        "c=100\n",
        "print(id(c))"
      ],
      "metadata": {
        "colab": {
          "base_uri": "https://localhost:8080/"
        },
        "id": "VaDiMm-yH6d_",
        "outputId": "e92c633c-38a7-4920-db5a-d946f692cbff"
      },
      "execution_count": null,
      "outputs": [
        {
          "output_type": "stream",
          "name": "stdout",
          "text": [
            "10754024\n"
          ]
        }
      ]
    },
    {
      "cell_type": "code",
      "source": [
        "a,b,c=10,20,30\n",
        "print(a,b,c)"
      ],
      "metadata": {
        "colab": {
          "base_uri": "https://localhost:8080/"
        },
        "id": "pTrxIQtCH-aN",
        "outputId": "4c86611b-1ca3-4076-e53b-01f0a56c88f4"
      },
      "execution_count": null,
      "outputs": [
        {
          "output_type": "stream",
          "name": "stdout",
          "text": [
            "10 20 30\n"
          ]
        }
      ]
    },
    {
      "cell_type": "code",
      "source": [
        "a=b=c=10  # varaible assignment\n",
        "print(a,b,c)"
      ],
      "metadata": {
        "colab": {
          "base_uri": "https://localhost:8080/"
        },
        "id": "KZx-BrAgIml6",
        "outputId": "b042a0d4-169c-478f-e5cb-9741396fe558"
      },
      "execution_count": null,
      "outputs": [
        {
          "output_type": "stream",
          "name": "stdout",
          "text": [
            "10 10 10\n"
          ]
        }
      ]
    },
    {
      "cell_type": "code",
      "source": [
        "print(\"Sreekanth Yarlagadda\")"
      ],
      "metadata": {
        "colab": {
          "base_uri": "https://localhost:8080/"
        },
        "id": "qbn6bDSi7Xcr",
        "outputId": "4709b663-718d-4818-c8fe-99180200826b"
      },
      "execution_count": null,
      "outputs": [
        {
          "output_type": "stream",
          "name": "stdout",
          "text": [
            "Sreekanth Yarlagadda\n"
          ]
        }
      ]
    },
    {
      "cell_type": "code",
      "source": [
        "# multiline comment\n",
        "\n",
        "\"\"\" kjhaksjdhjh\n",
        "  ajsdfjasdjf\n",
        "  asjdf.jahsdfjk\n",
        "  asjkjhaskdfjh \"\"\"\n",
        "\n",
        "print(\"hi\")"
      ],
      "metadata": {
        "id": "34ZbDQBAxLWX",
        "colab": {
          "base_uri": "https://localhost:8080/"
        },
        "outputId": "d128f3d2-85e8-4142-d5ee-98fbf8c0788d"
      },
      "execution_count": null,
      "outputs": [
        {
          "output_type": "stream",
          "name": "stdout",
          "text": [
            "hi\n"
          ]
        }
      ]
    },
    {
      "cell_type": "markdown",
      "source": [
        "**DAY 2**"
      ],
      "metadata": {
        "id": "xrug_UZOz-ga"
      }
    },
    {
      "cell_type": "code",
      "source": [
        "import keyword as kw\n",
        "print(kw.kwlist)"
      ],
      "metadata": {
        "colab": {
          "base_uri": "https://localhost:8080/"
        },
        "id": "VkT-DxUnL_W_",
        "outputId": "630969cc-0c49-49fc-9747-5519cb2c88a4"
      },
      "execution_count": null,
      "outputs": [
        {
          "output_type": "stream",
          "name": "stdout",
          "text": [
            "['False', 'None', 'True', 'and', 'as', 'assert', 'async', 'await', 'break', 'class', 'continue', 'def', 'del', 'elif', 'else', 'except', 'finally', 'for', 'from', 'global', 'if', 'import', 'in', 'is', 'lambda', 'nonlocal', 'not', 'or', 'pass', 'raise', 'return', 'try', 'while', 'with', 'yield']\n"
          ]
        }
      ]
    },
    {
      "cell_type": "code",
      "source": [
        "False=10      # you can't use kaeyword as a variable name\n",
        "print(False)"
      ],
      "metadata": {
        "colab": {
          "base_uri": "https://localhost:8080/",
          "height": 106
        },
        "id": "a76Jcg89MJhl",
        "outputId": "8d3522c7-ca64-4acc-a8b1-3a6b23fc8cf7"
      },
      "execution_count": null,
      "outputs": [
        {
          "output_type": "error",
          "ename": "SyntaxError",
          "evalue": "cannot assign to False (<ipython-input-2-a9b307c5edad>, line 1)",
          "traceback": [
            "\u001b[0;36m  File \u001b[0;32m\"<ipython-input-2-a9b307c5edad>\"\u001b[0;36m, line \u001b[0;32m1\u001b[0m\n\u001b[0;31m    False=10\u001b[0m\n\u001b[0m    ^\u001b[0m\n\u001b[0;31mSyntaxError\u001b[0m\u001b[0;31m:\u001b[0m cannot assign to False\n"
          ]
        }
      ]
    },
    {
      "cell_type": "code",
      "source": [
        "a= 'NTT'  # string allows single or double codes\n",
        "print(a)"
      ],
      "metadata": {
        "colab": {
          "base_uri": "https://localhost:8080/"
        },
        "id": "nj9dObOANB2E",
        "outputId": "c1dc6ed2-6295-4b99-d1e8-5229ded261b6"
      },
      "execution_count": null,
      "outputs": [
        {
          "output_type": "stream",
          "name": "stdout",
          "text": [
            "NTT\n"
          ]
        }
      ]
    },
    {
      "cell_type": "code",
      "source": [
        "b= \"DATA\"\n",
        "print(b)"
      ],
      "metadata": {
        "colab": {
          "base_uri": "https://localhost:8080/"
        },
        "id": "YcPd4uDVNJtj",
        "outputId": "46d40001-d9e6-429b-8dac-b43a57113a0a"
      },
      "execution_count": null,
      "outputs": [
        {
          "output_type": "stream",
          "name": "stdout",
          "text": [
            "DATA\n"
          ]
        }
      ]
    },
    {
      "cell_type": "code",
      "source": [
        "s = \"NTT DATA\"   # positive index value\n",
        "print(s[7])"
      ],
      "metadata": {
        "colab": {
          "base_uri": "https://localhost:8080/"
        },
        "id": "Ah2GUDcFOPS_",
        "outputId": "5c9b5eb4-b482-4842-e50f-934fe1c3c14a"
      },
      "execution_count": null,
      "outputs": [
        {
          "output_type": "stream",
          "name": "stdout",
          "text": [
            "A\n"
          ]
        }
      ]
    },
    {
      "cell_type": "code",
      "source": [
        "s = \"NTT DATA\"    # negative index value\n",
        "print(s[-8])"
      ],
      "metadata": {
        "colab": {
          "base_uri": "https://localhost:8080/"
        },
        "id": "L7x-pfrkOeoF",
        "outputId": "da537c93-75ba-4572-e692-cff9b0eae869"
      },
      "execution_count": null,
      "outputs": [
        {
          "output_type": "stream",
          "name": "stdout",
          "text": [
            "N\n"
          ]
        }
      ]
    },
    {
      "cell_type": "markdown",
      "source": [
        "**DAY 3**"
      ],
      "metadata": {
        "id": "Jup1LJVQvvjm"
      }
    },
    {
      "cell_type": "code",
      "source": [
        "\n",
        "list = [10,20.3,\"NTT\",3+4j]    # creating a simple list (mutable(can be altered) and ordered)\n",
        "print(list)                    # collection of sequence of elements of different data types\n",
        "print(type(list))"
      ],
      "metadata": {
        "colab": {
          "base_uri": "https://localhost:8080/"
        },
        "id": "PAIZPvR5SC8i",
        "outputId": "9567911f-725e-4329-9494-f10b0e79afa9"
      },
      "execution_count": null,
      "outputs": [
        {
          "output_type": "stream",
          "name": "stdout",
          "text": [
            "[10, 20.3, 'NTT', (3+4j)]\n",
            "<class 'list'>\n"
          ]
        }
      ]
    },
    {
      "cell_type": "code",
      "source": [
        "a = 3+4j\n",
        "b=3.14\n",
        "print(type(a))\n",
        "print(type(b))"
      ],
      "metadata": {
        "colab": {
          "base_uri": "https://localhost:8080/"
        },
        "id": "En7zH_6uSman",
        "outputId": "ee9483ab-d114-4139-f62f-d9585c9a7616"
      },
      "execution_count": null,
      "outputs": [
        {
          "output_type": "stream",
          "name": "stdout",
          "text": [
            "<class 'complex'>\n",
            "<class 'float'>\n"
          ]
        }
      ]
    },
    {
      "cell_type": "code",
      "source": [
        "#isinstance    # The isinstance() function returns True if the specified object is of the specified type, otherwise False.\n",
        "a=10\n",
        "print(isinstance(a,float))"
      ],
      "metadata": {
        "colab": {
          "base_uri": "https://localhost:8080/"
        },
        "id": "jCQ7wuYxTkRh",
        "outputId": "16a369e7-af27-4d5e-ee2e-a0bfeb58e2e2"
      },
      "execution_count": null,
      "outputs": [
        {
          "output_type": "stream",
          "name": "stdout",
          "text": [
            "False\n"
          ]
        }
      ]
    },
    {
      "cell_type": "code",
      "source": [
        "# variable annotations     # it tells developers the data type of variables or function parameters\n",
        "name: str = \"sreekanth\"\n",
        "print(name)\n",
        "print(type(name))\n",
        "print(__annotations__['name'])\n"
      ],
      "metadata": {
        "colab": {
          "base_uri": "https://localhost:8080/"
        },
        "id": "7rvvM73_UTml",
        "outputId": "5a06a3bd-f14e-4193-adfc-12454ddcf652"
      },
      "execution_count": null,
      "outputs": [
        {
          "output_type": "stream",
          "name": "stdout",
          "text": [
            "sreekanth\n",
            "<class 'str'>\n",
            "<class 'str'>\n"
          ]
        }
      ]
    },
    {
      "cell_type": "code",
      "source": [
        "aaa: int =3+4j\n",
        "print(aaa)\n",
        "print(__annotations__['aaa'])\n",
        "print(type(aaa))        # type function return the datatype class which is depends on the variable value"
      ],
      "metadata": {
        "colab": {
          "base_uri": "https://localhost:8080/"
        },
        "id": "s-FTUaEZVUy8",
        "outputId": "427bf8bb-97ef-453f-abc4-804defe14c9d"
      },
      "execution_count": null,
      "outputs": [
        {
          "output_type": "stream",
          "name": "stdout",
          "text": [
            "(3+4j)\n",
            "<class 'int'>\n",
            "<class 'complex'>\n"
          ]
        }
      ]
    },
    {
      "cell_type": "code",
      "source": [
        "aa: float =10\n",
        "print(aa)\n",
        "print(type(aa))\n",
        "print(__annotations__['aa'])"
      ],
      "metadata": {
        "colab": {
          "base_uri": "https://localhost:8080/"
        },
        "id": "b9k0RvuMWMcB",
        "outputId": "c6d23e3d-03c4-4e4f-b08a-cb1d6b09fef9"
      },
      "execution_count": null,
      "outputs": [
        {
          "output_type": "stream",
          "name": "stdout",
          "text": [
            "10\n",
            "<class 'int'>\n",
            "<class 'float'>\n"
          ]
        }
      ]
    },
    {
      "cell_type": "code",
      "source": [
        "t = (10,20.3,\"NTT\",3+4j)    # creating a simple tuple (immutable(can't be altered)and ordered)\n",
        "print(t)                    # collection of sequence of elements of different data types\n",
        "print(type(t))"
      ],
      "metadata": {
        "colab": {
          "base_uri": "https://localhost:8080/"
        },
        "id": "jzWwh6p2YwW-",
        "outputId": "30aebf38-cbeb-49ca-82b8-71f770f634e0"
      },
      "execution_count": null,
      "outputs": [
        {
          "output_type": "stream",
          "name": "stdout",
          "text": [
            "(10, 20.3, 'NTT', (3+4j))\n",
            "<class 'tuple'>\n"
          ]
        }
      ]
    },
    {
      "cell_type": "code",
      "source": [
        "d = {'a':1, 'bus':2, 3.14:3}      # dictionary has unordered set of key, value pairs.\n",
        "print(d)                          # first one is key and second one is value\n",
        "print(type(d))"
      ],
      "metadata": {
        "id": "lqWlygtbc6JZ",
        "colab": {
          "base_uri": "https://localhost:8080/"
        },
        "outputId": "7383080e-78c6-4541-d49c-a1f41734a4fc"
      },
      "execution_count": null,
      "outputs": [
        {
          "output_type": "stream",
          "name": "stdout",
          "text": [
            "{'a': 1, 'bus': 2, 3.14: 3}\n",
            "<class 'dict'>\n"
          ]
        }
      ]
    },
    {
      "cell_type": "code",
      "source": [
        "e = {'ashok':25, 's':[2,3,6], 2:'one', 'd':(11,22,33)}    # key is primitive data type(int,float, char, str)\n",
        "print(e)                                                  # value is primitive data type and be a list or tuple or dictionary.\n",
        "print(type(e))"
      ],
      "metadata": {
        "colab": {
          "base_uri": "https://localhost:8080/"
        },
        "id": "GYdYiIH1DkQF",
        "outputId": "03cd4d31-3a0c-4273-b440-e2f24dc87484"
      },
      "execution_count": null,
      "outputs": [
        {
          "output_type": "stream",
          "name": "stdout",
          "text": [
            "{'ashok': 25, 's': [2, 3, 6], 2: 'one', 'd': (11, 22, 33)}\n",
            "<class 'dict'>\n"
          ]
        }
      ]
    },
    {
      "cell_type": "code",
      "source": [
        "s ={10,3.14,3+4j,\"hello\"}     # set is a unordered collection of unique items\n",
        "print(s)\n",
        "print(type(s))\n"
      ],
      "metadata": {
        "colab": {
          "base_uri": "https://localhost:8080/"
        },
        "id": "y9QLZMaWKSX-",
        "outputId": "08f4782a-2d1c-4b16-f867-6a17633c65cf"
      },
      "execution_count": null,
      "outputs": [
        {
          "output_type": "stream",
          "name": "stdout",
          "text": [
            "{'hello', 10, 3.14, (3+4j)}\n",
            "<class 'set'>\n"
          ]
        }
      ]
    },
    {
      "cell_type": "code",
      "source": [
        "for num in range(5):\n",
        "    print(num)"
      ],
      "metadata": {
        "colab": {
          "base_uri": "https://localhost:8080/"
        },
        "id": "gi2dzt0BQWPP",
        "outputId": "4032028b-8af9-4bb5-eb7a-08d26b21f7ed"
      },
      "execution_count": null,
      "outputs": [
        {
          "output_type": "stream",
          "name": "stdout",
          "text": [
            "0\n",
            "1\n",
            "2\n",
            "3\n",
            "4\n"
          ]
        }
      ]
    },
    {
      "cell_type": "code",
      "source": [
        "for num in range(10,21,2):      # range syntax range (start,stop,step). default starting value is 0 and step value is 1.\n",
        "  print(num)"
      ],
      "metadata": {
        "colab": {
          "base_uri": "https://localhost:8080/"
        },
        "id": "Pid9XzIrXpnf",
        "outputId": "11d6bd06-4690-4d37-cf86-0dcaa3c28bb1"
      },
      "execution_count": null,
      "outputs": [
        {
          "output_type": "stream",
          "name": "stdout",
          "text": [
            "10\n",
            "12\n",
            "14\n",
            "16\n",
            "18\n",
            "20\n"
          ]
        }
      ]
    },
    {
      "cell_type": "code",
      "source": [
        "for num in range(20,5,-2):\n",
        "  print(num)"
      ],
      "metadata": {
        "colab": {
          "base_uri": "https://localhost:8080/"
        },
        "id": "Nh6gluCYZlpz",
        "outputId": "dca68e28-10f0-4e82-d14c-fd9db8cdce75"
      },
      "execution_count": null,
      "outputs": [
        {
          "output_type": "stream",
          "name": "stdout",
          "text": [
            "20\n",
            "18\n",
            "16\n",
            "14\n",
            "12\n",
            "10\n",
            "8\n",
            "6\n"
          ]
        }
      ]
    },
    {
      "cell_type": "markdown",
      "source": [
        "**DAY 4**"
      ],
      "metadata": {
        "id": "NuFwEOWFyXXq"
      }
    },
    {
      "cell_type": "code",
      "source": [
        "# sub string\n",
        "#indexing\n",
        "#slicing syntax slice[start:stop:step]\n",
        "s = \"BANGALORE\"\n",
        "print(\"slicing of s:\", s[0:3:1])   # in positive slicing , start value should be smaller & stop value should be bigger\n",
        "print (s[-3:-9:-1])                # in negative slicing,  start value should be bigger & stop value should be smaller"
      ],
      "metadata": {
        "colab": {
          "base_uri": "https://localhost:8080/"
        },
        "id": "SNAPPh_KyQJr",
        "outputId": "fedca8c5-eae9-4c9a-ad2e-d379e1a9d4cf"
      },
      "execution_count": null,
      "outputs": [
        {
          "output_type": "stream",
          "name": "stdout",
          "text": [
            "slicing of s: BAN\n",
            "OLAGNA\n"
          ]
        }
      ]
    },
    {
      "cell_type": "code",
      "source": [
        "# simple if statement\n",
        "if 10>15:\n",
        "  print(\"start of if\")\n",
        "  print(\"10 is greater than 15\")\n",
        "  print(\"end of if\")\n",
        "\n",
        "print(\"end of program\")\n"
      ],
      "metadata": {
        "colab": {
          "base_uri": "https://localhost:8080/"
        },
        "id": "4I_VAolhA_XM",
        "outputId": "a9492667-a078-49de-d414-893f0e26c465"
      },
      "execution_count": null,
      "outputs": [
        {
          "output_type": "stream",
          "name": "stdout",
          "text": [
            "end of program\n"
          ]
        }
      ]
    },
    {
      "cell_type": "code",
      "source": [
        "# if else ladder\n",
        "s = input(\"enter a clour\")\n",
        "\n",
        "if s==\"red\":\n",
        "  print(\"stop\")\n",
        "elif s==\"yellow\":\n",
        "  print(\"ready\")\n",
        "elif s==\"green\":\n",
        "  print(\"go\")\n",
        "else:\n",
        "  print(\"invalid colour\")\n"
      ],
      "metadata": {
        "colab": {
          "base_uri": "https://localhost:8080/"
        },
        "id": "Ji4UOnIeCGn3",
        "outputId": "3c1dc599-f829-423e-beca-08fee9fd63cf"
      },
      "execution_count": null,
      "outputs": [
        {
          "output_type": "stream",
          "name": "stdout",
          "text": [
            "enter a clourred\n",
            "stop\n"
          ]
        }
      ]
    },
    {
      "cell_type": "code",
      "source": [
        "# polydrom\n",
        "a=input(\"enter a string:\")\n",
        "b=a[-1::-1]\n",
        "if(a==b):\n",
        "  print(\"polydrom\")\n",
        "else:\n",
        "  print(\"not polydrom\")\n"
      ],
      "metadata": {
        "colab": {
          "base_uri": "https://localhost:8080/"
        },
        "id": "7_PuJg65EWpT",
        "outputId": "da47138d-fc93-4d15-d586-db1c81301337"
      },
      "execution_count": null,
      "outputs": [
        {
          "output_type": "stream",
          "name": "stdout",
          "text": [
            "enter a string:hindi\n",
            "not polydrom\n"
          ]
        }
      ]
    },
    {
      "cell_type": "code",
      "source": [
        "text = input(\"enter a string\")   # to check polydrom\n",
        "revtext = text[::-1]\n",
        "\n",
        "if text == revtext:\n",
        "  print(\"polidrome\")\n",
        "else:\n",
        "  print(\"not a polidrome\")\n"
      ],
      "metadata": {
        "colab": {
          "base_uri": "https://localhost:8080/"
        },
        "id": "Sy44kZpcFHtU",
        "outputId": "db7a2150-1edf-4013-81b1-4d58d732b550"
      },
      "execution_count": null,
      "outputs": [
        {
          "output_type": "stream",
          "name": "stdout",
          "text": [
            "enter a stringmalayalam\n",
            "polidrome\n"
          ]
        }
      ]
    },
    {
      "cell_type": "code",
      "source": [
        "# while statement\n",
        "num = 19\n",
        "i =1\n",
        "while i<=10:\n",
        "  print(num, \"*\", i, \"=\", num*i)\n",
        "  i=i+1"
      ],
      "metadata": {
        "id": "yzCHYEtmIBB8",
        "outputId": "3146681b-4c79-4b18-ce59-c5f713688169",
        "colab": {
          "base_uri": "https://localhost:8080/"
        }
      },
      "execution_count": null,
      "outputs": [
        {
          "output_type": "stream",
          "name": "stdout",
          "text": [
            "19 * 1 = 19\n",
            "19 * 2 = 38\n",
            "19 * 3 = 57\n",
            "19 * 4 = 76\n",
            "19 * 5 = 95\n",
            "19 * 6 = 114\n",
            "19 * 7 = 133\n",
            "19 * 8 = 152\n",
            "19 * 9 = 171\n",
            "19 * 10 = 190\n"
          ]
        }
      ]
    },
    {
      "cell_type": "code",
      "source": [
        "# for loop\n",
        "s= \"sreekanth\"\n",
        "\n",
        "for i in s:\n",
        "  print(i)"
      ],
      "metadata": {
        "id": "Q6h49wsMJ1iM",
        "outputId": "5a31514a-d22e-404a-ea26-156ad4d3c984",
        "colab": {
          "base_uri": "https://localhost:8080/"
        }
      },
      "execution_count": null,
      "outputs": [
        {
          "output_type": "stream",
          "name": "stdout",
          "text": [
            "s\n",
            "r\n",
            "e\n",
            "e\n",
            "k\n",
            "a\n",
            "n\n",
            "t\n",
            "h\n"
          ]
        }
      ]
    },
    {
      "cell_type": "markdown",
      "source": [
        "**DAY 5**"
      ],
      "metadata": {
        "id": "f1UmpdxyLtrr"
      }
    },
    {
      "cell_type": "code",
      "source": [
        "#concatination\n",
        "str1= \"- python is \"\n",
        "str2= \"awesome \"\n",
        "str3= str1 + str2\n",
        "print(str3)\n",
        "str4= str3 *3   # string multiplication\n",
        "print(str4)"
      ],
      "metadata": {
        "colab": {
          "base_uri": "https://localhost:8080/"
        },
        "id": "XpQ74u_qLv2w",
        "outputId": "f3f47562-2f65-434c-e3c6-8fd94b02d86f"
      },
      "execution_count": null,
      "outputs": [
        {
          "output_type": "stream",
          "name": "stdout",
          "text": [
            "- python is awesome \n",
            "- python is awesome - python is awesome - python is awesome \n"
          ]
        }
      ]
    },
    {
      "cell_type": "code",
      "source": [
        "s1 = \"NTT DATA\" # strings are immutable(can't be altered) in python ; strings and tuples are immutable in python.\n",
        "s1[0] ='n'"
      ],
      "metadata": {
        "colab": {
          "base_uri": "https://localhost:8080/",
          "height": 158
        },
        "id": "OYKPa1WmL-WG",
        "outputId": "6e97207c-00e8-4a99-a113-0436ff67043c"
      },
      "execution_count": null,
      "outputs": [
        {
          "output_type": "error",
          "ename": "TypeError",
          "evalue": "'str' object does not support item assignment",
          "traceback": [
            "\u001b[0;31m---------------------------------------------------------------------------\u001b[0m",
            "\u001b[0;31mTypeError\u001b[0m                                 Traceback (most recent call last)",
            "\u001b[0;32m<ipython-input-5-152ebc73d0ee>\u001b[0m in \u001b[0;36m<cell line: 0>\u001b[0;34m()\u001b[0m\n\u001b[1;32m      1\u001b[0m \u001b[0ms1\u001b[0m \u001b[0;34m=\u001b[0m \u001b[0;34m\"NTT DATA\"\u001b[0m \u001b[0;31m# strings are immutable(can't be altered) in python ; strings and tuples are immutable in python.\u001b[0m\u001b[0;34m\u001b[0m\u001b[0;34m\u001b[0m\u001b[0m\n\u001b[0;32m----> 2\u001b[0;31m \u001b[0ms1\u001b[0m\u001b[0;34m[\u001b[0m\u001b[0;36m0\u001b[0m\u001b[0;34m]\u001b[0m \u001b[0;34m=\u001b[0m\u001b[0;34m'n'\u001b[0m\u001b[0;34m\u001b[0m\u001b[0;34m\u001b[0m\u001b[0m\n\u001b[0m",
            "\u001b[0;31mTypeError\u001b[0m: 'str' object does not support item assignment"
          ]
        }
      ]
    },
    {
      "cell_type": "code",
      "source": [
        "# Deletion\n",
        "s1 = \"NTT DATA\"   # deleting entire string is possible\n",
        "print(s1)\n",
        "del s1\n",
        "print(s1)"
      ],
      "metadata": {
        "colab": {
          "base_uri": "https://localhost:8080/",
          "height": 193
        },
        "id": "JndXomtCMC9a",
        "outputId": "bbc6df73-2667-4fff-8a74-5e31d37a70a7"
      },
      "execution_count": null,
      "outputs": [
        {
          "output_type": "stream",
          "name": "stdout",
          "text": [
            "NTT DATA\n"
          ]
        },
        {
          "output_type": "error",
          "ename": "NameError",
          "evalue": "name 's1' is not defined",
          "traceback": [
            "\u001b[0;31m---------------------------------------------------------------------------\u001b[0m",
            "\u001b[0;31mNameError\u001b[0m                                 Traceback (most recent call last)",
            "\u001b[0;32m<ipython-input-6-6978fc73978c>\u001b[0m in \u001b[0;36m<cell line: 0>\u001b[0;34m()\u001b[0m\n\u001b[1;32m      3\u001b[0m \u001b[0mprint\u001b[0m\u001b[0;34m(\u001b[0m\u001b[0ms1\u001b[0m\u001b[0;34m)\u001b[0m\u001b[0;34m\u001b[0m\u001b[0;34m\u001b[0m\u001b[0m\n\u001b[1;32m      4\u001b[0m \u001b[0;32mdel\u001b[0m \u001b[0ms1\u001b[0m\u001b[0;34m\u001b[0m\u001b[0;34m\u001b[0m\u001b[0m\n\u001b[0;32m----> 5\u001b[0;31m \u001b[0mprint\u001b[0m\u001b[0;34m(\u001b[0m\u001b[0ms1\u001b[0m\u001b[0;34m)\u001b[0m\u001b[0;34m\u001b[0m\u001b[0;34m\u001b[0m\u001b[0m\n\u001b[0m",
            "\u001b[0;31mNameError\u001b[0m: name 's1' is not defined"
          ]
        }
      ]
    },
    {
      "cell_type": "code",
      "source": [
        "# length of the string\n",
        "s = input(\"enter a string \")\n",
        "c=0\n",
        "for i in s :\n",
        "  c = c+1\n",
        "print(\"length =\", c)\n",
        "# use in len function\n",
        "print(len(s))"
      ],
      "metadata": {
        "colab": {
          "base_uri": "https://localhost:8080/"
        },
        "id": "2npGCAgMRHsQ",
        "outputId": "cb46b42c-92b3-480e-a583-6e1560a8f708"
      },
      "execution_count": null,
      "outputs": [
        {
          "output_type": "stream",
          "name": "stdout",
          "text": [
            "enter a string sreekanth\n",
            "length = 9\n",
            "9\n"
          ]
        }
      ]
    },
    {
      "cell_type": "code",
      "source": [
        "#membership operator\n",
        "if \"a\" in \"apple\":\n",
        "  print(\"yes\")\n",
        "else:\n",
        "  print(\"no\")"
      ],
      "metadata": {
        "colab": {
          "base_uri": "https://localhost:8080/"
        },
        "id": "czoJ8WNLYNCE",
        "outputId": "497e13e0-2c4d-4225-f1f3-6adc9c8cc8c8"
      },
      "execution_count": null,
      "outputs": [
        {
          "output_type": "stream",
          "name": "stdout",
          "text": [
            "yes\n"
          ]
        }
      ]
    },
    {
      "cell_type": "code",
      "source": [
        "#count method, it shows count of sub strings\n",
        "main_string=input(\"enter a string \")\n",
        "sub_string=input(\"enter sub string \")\n",
        "c=main_string.count(sub_string, 0, 3)\n",
        "print(c)"
      ],
      "metadata": {
        "colab": {
          "base_uri": "https://localhost:8080/"
        },
        "id": "OzKiEY5ue9nb",
        "outputId": "e808c4ec-ed14-4f91-d7b5-5c056df7bc7d"
      },
      "execution_count": null,
      "outputs": [
        {
          "output_type": "stream",
          "name": "stdout",
          "text": [
            "enter a string nttdata\n",
            "enter sub string t\n",
            "2\n"
          ]
        }
      ]
    },
    {
      "cell_type": "code",
      "source": [
        "#startswith method\n",
        "cell_no=input(\"enter your mobile no. with country code\")\n",
        "if cell_no.startswith(\"+91\"):\n",
        "  print(\"India\")\n",
        "elif cell_no.startswith(\"+1\"):\n",
        "  print(\"USA\")"
      ],
      "metadata": {
        "colab": {
          "base_uri": "https://localhost:8080/"
        },
        "id": "4jVMHFtAjFGz",
        "outputId": "3de12c88-d6f3-43fa-b54d-7f8f5185fe77"
      },
      "execution_count": null,
      "outputs": [
        {
          "output_type": "stream",
          "name": "stdout",
          "text": [
            "enter your mobile no. with country code+919716326768\n",
            "India\n"
          ]
        }
      ]
    },
    {
      "cell_type": "code",
      "source": [
        "#endswith method\n",
        "url=input(\"enter your url \")\n",
        "if url.endswith(\".in\"):\n",
        "  print(\"Indian website\")\n",
        "elif url.endswith(\".com\"):\n",
        "  print(\"commercial website\")\n",
        "elif url.endswith(\".edu\"):\n",
        "  print(\"educational website\")"
      ],
      "metadata": {
        "colab": {
          "base_uri": "https://localhost:8080/"
        },
        "id": "W3f7L6omklLw",
        "outputId": "0f85c375-ed91-4ae9-c437-1136583a289b"
      },
      "execution_count": null,
      "outputs": [
        {
          "output_type": "stream",
          "name": "stdout",
          "text": [
            "enter your url manabadi.edu\n",
            "educational website\n"
          ]
        }
      ]
    },
    {
      "cell_type": "code",
      "source": [
        "# lstrip method - removing leading charecters\n",
        "name = input(\"enter your name\")\n",
        "print(name)\n",
        "name = name.lstrip()\n",
        "print(name)"
      ],
      "metadata": {
        "colab": {
          "base_uri": "https://localhost:8080/"
        },
        "id": "vY7cYevfmfnc",
        "outputId": "86cd3ae5-6701-4de7-cfd9-1a1790e98a12"
      },
      "execution_count": null,
      "outputs": [
        {
          "output_type": "stream",
          "name": "stdout",
          "text": [
            "enter your name        sreekanth\n",
            "        sreekanth\n",
            "sreekanth\n"
          ]
        }
      ]
    },
    {
      "cell_type": "code",
      "source": [
        "url = [\"http://www.myntra.com\",\"http://www.ajio.com\",\"http://www.cricbuzz.com\"]\n",
        "for i in url:\n",
        "  #i=i.lstrip(\"http://www.\")\n",
        "  #i=i.lstrip(\"htp:/w.\")         # lstrip will remove left side same charectors, so, 1st & 2nd statements gives same result.\n",
        "  i=i.lstrip(\"tph/\")             # 3rd statement will give different result, because there is a mismatch after charecter 'p'\n",
        "  print(i)"
      ],
      "metadata": {
        "colab": {
          "base_uri": "https://localhost:8080/"
        },
        "id": "euCTY65z7quV",
        "outputId": "b0354ef4-ecd4-4291-9c1c-52b055e05ff9"
      },
      "execution_count": null,
      "outputs": [
        {
          "output_type": "stream",
          "name": "stdout",
          "text": [
            "://www.myntra.com\n",
            "://www.ajio.com\n",
            "://www.cricbuzz.com\n"
          ]
        }
      ]
    },
    {
      "cell_type": "code",
      "source": [
        "# rstrip method -- - removing tailing charecters\n",
        "url = [\"http://www.myntra.com\",\"http://www.ajio.com\",\"http://www.cricbuzz.com\"]\n",
        "for i in url:\n",
        "  i=i.rstrip(\".com\")    # rstrip will ignore duplicate charectors\n",
        "  print(i)"
      ],
      "metadata": {
        "colab": {
          "base_uri": "https://localhost:8080/"
        },
        "id": "mFglJRY0Cili",
        "outputId": "a6383aeb-73b3-4c2f-ef3b-a685474e4c49"
      },
      "execution_count": null,
      "outputs": [
        {
          "output_type": "stream",
          "name": "stdout",
          "text": [
            "http://www.myntra\n",
            "http://www.aji\n",
            "http://www.cricbuzz\n"
          ]
        }
      ]
    },
    {
      "cell_type": "code",
      "source": [
        "# strip method  -- it will remoe leading & tailing charecters\n",
        "url = [\"http://www.myntra.com\",\"http://www.ajio.com\",\"http://www.cricbuzz.com\"]\n",
        "for i in url:\n",
        "  i=i.strip(\"htp:/w.com\")\n",
        "  print(i)"
      ],
      "metadata": {
        "id": "BO5eEcUIzdX9",
        "outputId": "dc1e0a2e-239a-4afa-8162-9eb04a420c6f",
        "colab": {
          "base_uri": "https://localhost:8080/"
        }
      },
      "execution_count": null,
      "outputs": [
        {
          "output_type": "stream",
          "name": "stdout",
          "text": [
            "yntra\n",
            "aji\n",
            "ricbuzz\n"
          ]
        }
      ]
    },
    {
      "cell_type": "code",
      "source": [
        "# ascii values of alphabets\n",
        "print(ord('a'))\n",
        "print(ord('c'))\n",
        "print(ord('A'))\n",
        "print(ord('D'))"
      ],
      "metadata": {
        "id": "JW2Yu9dj17Uw",
        "outputId": "32266e3f-6071-41ad-9991-1b55f5491843",
        "colab": {
          "base_uri": "https://localhost:8080/"
        }
      },
      "execution_count": null,
      "outputs": [
        {
          "output_type": "stream",
          "name": "stdout",
          "text": [
            "97\n",
            "99\n",
            "65\n",
            "68\n"
          ]
        }
      ]
    },
    {
      "cell_type": "code",
      "source": [
        "# comparison operators\n",
        "s1=\"AAnand\"\n",
        "s2=\"ABhijit\"\n",
        "if s1>s2:\n",
        "  print(\"s1 is greater\")\n",
        "else:\n",
        "  print(\"s2 is greater\")"
      ],
      "metadata": {
        "id": "oay8Lzd24RnJ",
        "outputId": "20788eb6-893e-4fe1-b98f-024ccfcc4236",
        "colab": {
          "base_uri": "https://localhost:8080/"
        }
      },
      "execution_count": null,
      "outputs": [
        {
          "output_type": "stream",
          "name": "stdout",
          "text": [
            "s2 is greater\n"
          ]
        }
      ]
    },
    {
      "cell_type": "code",
      "source": [
        "#replace method\n",
        "s1= \"I live in mumbai, mumbai is beautiful place\"\n",
        "s1.replace(\"mumbai\",\"chennai\",1)   # relaced only first string"
      ],
      "metadata": {
        "id": "RpBjczDN8s-P",
        "outputId": "c27f622c-d6d9-4e51-cf3a-5793b8815dbb",
        "colab": {
          "base_uri": "https://localhost:8080/",
          "height": 35
        }
      },
      "execution_count": null,
      "outputs": [
        {
          "output_type": "execute_result",
          "data": {
            "text/plain": [
              "'I live in chennai, mumbai ia beautiful place'"
            ],
            "application/vnd.google.colaboratory.intrinsic+json": {
              "type": "string"
            }
          },
          "metadata": {},
          "execution_count": 13
        }
      ]
    },
    {
      "cell_type": "code",
      "source": [
        "#find method\n",
        "s1= \"I live in mumbai, mumbai ia beautiful place\"\n",
        "result=s1.find(\"mumbai\")\n",
        "print(result)"
      ],
      "metadata": {
        "id": "hWU1O-5J9Wx-",
        "outputId": "600ddc6d-edda-4c70-ab85-0c435b1f94a6",
        "colab": {
          "base_uri": "https://localhost:8080/"
        }
      },
      "execution_count": null,
      "outputs": [
        {
          "output_type": "stream",
          "name": "stdout",
          "text": [
            "10\n"
          ]
        }
      ]
    },
    {
      "cell_type": "code",
      "source": [
        "#rfind method   -- it finds string last value\n",
        "s1= \"I live in mumbai, mumbai is beautiful place\"\n",
        "result=s1.rfind(\"mumbai\")\n",
        "print(result)"
      ],
      "metadata": {
        "id": "ZrTPTswXLh9j",
        "outputId": "deec844e-e435-41c3-9bc6-c9c6447c6f11",
        "colab": {
          "base_uri": "https://localhost:8080/"
        }
      },
      "execution_count": null,
      "outputs": [
        {
          "output_type": "stream",
          "name": "stdout",
          "text": [
            "18\n"
          ]
        }
      ]
    },
    {
      "cell_type": "code",
      "source": [
        "#split method   -- it separates each string\n",
        "s1= \"I live in mumbai, mumbai is beautiful place\"\n",
        "result=s1.split()\n",
        "print(result)"
      ],
      "metadata": {
        "id": "SGioHfQdPB1t",
        "outputId": "9746ad02-0914-446e-9f71-4ebfb68a7bb3",
        "colab": {
          "base_uri": "https://localhost:8080/"
        }
      },
      "execution_count": null,
      "outputs": [
        {
          "output_type": "stream",
          "name": "stdout",
          "text": [
            "['I', 'live', 'in', 'mumbai,', 'mumbai', 'is', 'beautiful', 'place']\n"
          ]
        }
      ]
    },
    {
      "cell_type": "code",
      "source": [
        "s1= \"I live in mumbai, mumbai is beautiful place\"\n",
        "result=s1.split(\"i\")\n",
        "print(result)"
      ],
      "metadata": {
        "id": "_lFO9uSvQQWh",
        "colab": {
          "base_uri": "https://localhost:8080/"
        },
        "outputId": "63baa971-21a0-47fb-88bf-dbc5abbe1c18"
      },
      "execution_count": null,
      "outputs": [
        {
          "output_type": "stream",
          "name": "stdout",
          "text": [
            "['I l', 've ', 'n mumba', ', mumba', ' ', 's beaut', 'ful place']\n"
          ]
        }
      ]
    },
    {
      "cell_type": "markdown",
      "source": [
        "**DAY 6**"
      ],
      "metadata": {
        "id": "30isODVeLhB1"
      }
    },
    {
      "cell_type": "markdown",
      "source": [
        "**DAY 7**"
      ],
      "metadata": {
        "id": "X0SAfhwILkgR"
      }
    },
    {
      "cell_type": "code",
      "source": [
        "# list method\n",
        "l1 =list()\n",
        "print(l1)\n",
        "print(type(l1))"
      ],
      "metadata": {
        "colab": {
          "base_uri": "https://localhost:8080/"
        },
        "id": "LULuGEymLoay",
        "outputId": "7ebb01c6-af42-4171-ab7f-df8b6ddee08d"
      },
      "execution_count": null,
      "outputs": [
        {
          "output_type": "stream",
          "name": "stdout",
          "text": [
            "[]\n",
            "<class 'list'>\n"
          ]
        }
      ]
    },
    {
      "cell_type": "code",
      "source": [
        "s = \"NTT DATA\"\n",
        "l2 = list(s)\n",
        "print(l2)"
      ],
      "metadata": {
        "colab": {
          "base_uri": "https://localhost:8080/"
        },
        "id": "epbmUeNOEA5U",
        "outputId": "5e2c72ed-a92b-4e23-a2e9-126f18c7dcb9"
      },
      "execution_count": null,
      "outputs": [
        {
          "output_type": "stream",
          "name": "stdout",
          "text": [
            "['N', 'T', 'T', ' ', 'D', 'A', 'T', 'A']\n"
          ]
        }
      ]
    },
    {
      "cell_type": "code",
      "source": [
        "l3 = list(range(1,5))\n",
        "print(l3)"
      ],
      "metadata": {
        "colab": {
          "base_uri": "https://localhost:8080/"
        },
        "id": "Q6iIqmC_ESfD",
        "outputId": "c4538542-acf5-4d84-deda-7e707117c5a0"
      },
      "execution_count": null,
      "outputs": [
        {
          "output_type": "stream",
          "name": "stdout",
          "text": [
            "[1, 2, 3, 4]\n"
          ]
        }
      ]
    },
    {
      "cell_type": "code",
      "source": [
        "# print the occerance of elements\n"
      ],
      "metadata": {
        "id": "V1LN5rDQG76d"
      },
      "execution_count": null,
      "outputs": []
    },
    {
      "cell_type": "code",
      "source": [
        "# tuples\n",
        "t1 =(1,2,3,4,[1,2,3],(1,6,5))\n",
        "print(t1)\n",
        "print(type(t1))"
      ],
      "metadata": {
        "colab": {
          "base_uri": "https://localhost:8080/"
        },
        "id": "KQpQv0WbJL4r",
        "outputId": "e214d62b-bb1f-4b60-e740-813c3df5f5be"
      },
      "execution_count": null,
      "outputs": [
        {
          "output_type": "stream",
          "name": "stdout",
          "text": [
            "(1, 2, 3, 4, [1, 2, 3], (1, 6, 5))\n",
            "<class 'tuple'>\n"
          ]
        }
      ]
    },
    {
      "cell_type": "code",
      "source": [
        "#tuple() method\n",
        "s = \"NTT DATA\"\n",
        "t2 = tuple(s)\n",
        "print(t2)\n",
        "\n",
        "l1 = [10,20,30]\n",
        "t3 = tuple(l1)\n",
        "print(t3)\n",
        "\n",
        "l5 = list(t3)\n",
        "print(l5)"
      ],
      "metadata": {
        "colab": {
          "base_uri": "https://localhost:8080/"
        },
        "id": "naoxtmP1JetN",
        "outputId": "73ef80db-3a31-44c4-bd98-7d11da7662c7"
      },
      "execution_count": null,
      "outputs": [
        {
          "output_type": "stream",
          "name": "stdout",
          "text": [
            "('N', 'T', 'T', ' ', 'D', 'A', 'T', 'A')\n",
            "(10, 20, 30)\n",
            "[10, 20, 30]\n"
          ]
        }
      ]
    },
    {
      "cell_type": "code",
      "source": [
        "# tuple with a single element\n",
        "t5 = (6,)\n",
        "print(t5)\n",
        "print(type(t5))"
      ],
      "metadata": {
        "colab": {
          "base_uri": "https://localhost:8080/"
        },
        "id": "J0Wz_iJmKVWF",
        "outputId": "ded4d314-4be9-4ce2-9fe9-0adfeca5f550"
      },
      "execution_count": null,
      "outputs": [
        {
          "output_type": "stream",
          "name": "stdout",
          "text": [
            "(6,)\n",
            "<class 'tuple'>\n"
          ]
        }
      ]
    },
    {
      "cell_type": "code",
      "source": [
        "t5 = (6)                # ambiquity comes only here when you not use comma (,) in tuple\n",
        "print(t5)\n",
        "print(type(t5))"
      ],
      "metadata": {
        "colab": {
          "base_uri": "https://localhost:8080/"
        },
        "id": "-nCsipZzLH8p",
        "outputId": "387725de-fc48-4e96-d88e-15fd94eb1269"
      },
      "execution_count": null,
      "outputs": [
        {
          "output_type": "stream",
          "name": "stdout",
          "text": [
            "6\n",
            "<class 'int'>\n"
          ]
        }
      ]
    },
    {
      "cell_type": "code",
      "source": [
        "# concatination on tuples\n",
        "t1 = (10,20,30)\n",
        "t2= (40,50,50)\n",
        "t3 = t1 + t2\n",
        "print(t3)\n",
        "print(type(t3))"
      ],
      "metadata": {
        "colab": {
          "base_uri": "https://localhost:8080/"
        },
        "id": "HtYb7IyvL0HM",
        "outputId": "dea11c29-b3a4-4346-a633-1fefaf1d3088"
      },
      "execution_count": null,
      "outputs": [
        {
          "output_type": "stream",
          "name": "stdout",
          "text": [
            "(10, 20, 30, 40, 50, 50)\n",
            "<class 'tuple'>\n"
          ]
        }
      ]
    },
    {
      "cell_type": "code",
      "source": [
        "t1 = (10,20,30)\n",
        "t2 =t1*3\n",
        "print(t2)"
      ],
      "metadata": {
        "colab": {
          "base_uri": "https://localhost:8080/"
        },
        "id": "JZ3Al8bXMNjr",
        "outputId": "a999a107-c1ea-41a5-8e79-3f3d60a7786b"
      },
      "execution_count": null,
      "outputs": [
        {
          "output_type": "stream",
          "name": "stdout",
          "text": [
            "(10, 20, 30, 10, 20, 30, 10, 20, 30)\n"
          ]
        }
      ]
    },
    {
      "cell_type": "code",
      "source": [
        "# itrating tuples\n",
        "t1 = (10,20,30)\n",
        "for i in t1:\n",
        "  print(i)"
      ],
      "metadata": {
        "colab": {
          "base_uri": "https://localhost:8080/"
        },
        "id": "tHwkkYhvMVXl",
        "outputId": "515e73f7-6d4b-4f63-f6c5-086818607e74"
      },
      "execution_count": null,
      "outputs": [
        {
          "output_type": "stream",
          "name": "stdout",
          "text": [
            "10\n",
            "20\n",
            "30\n"
          ]
        }
      ]
    },
    {
      "cell_type": "code",
      "source": [
        "t1 = (10,20,30,[40,50,60], 60, 70)\n",
        "print(t1[1:4])"
      ],
      "metadata": {
        "colab": {
          "base_uri": "https://localhost:8080/"
        },
        "id": "ZF_g3BZRMsDz",
        "outputId": "4c5157b9-301c-49ee-e6e9-8d0cb76a5a47"
      },
      "execution_count": null,
      "outputs": [
        {
          "output_type": "stream",
          "name": "stdout",
          "text": [
            "(20, 30, [40, 50, 60])\n"
          ]
        }
      ]
    },
    {
      "cell_type": "code",
      "source": [
        "# Dictionary\n",
        "d1 = {\"name\":\"sree\",\"age\":39,\"city\":\"bangalore\"}\n",
        "print(d1)\n",
        "print(type(d1))\n",
        "print(d1.keys())\n",
        "print(d1.values())\n",
        "\n",
        "print(d1.items())"
      ],
      "metadata": {
        "colab": {
          "base_uri": "https://localhost:8080/"
        },
        "id": "QhvFZYm4QJ2S",
        "outputId": "011c3a75-8e40-4af0-97d9-864b7040e893"
      },
      "execution_count": null,
      "outputs": [
        {
          "output_type": "stream",
          "name": "stdout",
          "text": [
            "{'name': 'sree', 'age': 39, 'city': 'bangalore'}\n",
            "<class 'dict'>\n",
            "dict_keys(['name', 'age', 'city'])\n",
            "dict_values(['sree', 39, 'bangalore'])\n",
            "dict_items([('name', 'sree'), ('age', 39), ('city', 'bangalore')])\n"
          ]
        }
      ]
    },
    {
      "cell_type": "markdown",
      "source": [
        "**DAY 8**"
      ],
      "metadata": {
        "id": "fcWMd2B4SMCE"
      }
    },
    {
      "cell_type": "code",
      "source": [
        "# create a Dictionary\n",
        "d1 ={2 : 100,\n",
        "     4 : 200,\n",
        "     6 : 300,\n",
        "     8 : 400,\n",
        "     10 : 500}\n",
        "print(d1)\n",
        "print(type(d1))\n",
        "\n",
        "print(d1[2])\n",
        "print(d1[10])"
      ],
      "metadata": {
        "id": "QRdhrsifSPQj",
        "outputId": "b41700e0-ee33-49d0-ab92-f0918c6633c5",
        "colab": {
          "base_uri": "https://localhost:8080/"
        }
      },
      "execution_count": 3,
      "outputs": [
        {
          "output_type": "stream",
          "name": "stdout",
          "text": [
            "{2: 100, 4: 200, 6: 300, 8: 400, 10: 500}\n",
            "<class 'dict'>\n",
            "100\n",
            "500\n"
          ]
        }
      ]
    },
    {
      "cell_type": "code",
      "source": [
        "d2 = {'aa' : 100,\n",
        "      'bb' : 200,\n",
        "      'cc' : 300}\n",
        "print(d2)\n",
        "\n",
        "print(d2['cc'])"
      ],
      "metadata": {
        "id": "Fl923GYrbqYM",
        "outputId": "58479b80-b37d-48cf-cd2e-4e8858e003bf",
        "colab": {
          "base_uri": "https://localhost:8080/"
        }
      },
      "execution_count": 6,
      "outputs": [
        {
          "output_type": "stream",
          "name": "stdout",
          "text": [
            "{'aa': 100, 'bb': 200, 'cc': 300}\n",
            "300\n"
          ]
        }
      ]
    },
    {
      "cell_type": "code",
      "source": [
        "d3 = {3 : [1,2,3],\n",
        "      6 : (4,5,6),\n",
        "      9 : \"NTT\" }\n",
        "print(d3)\n",
        "print(d3[3])\n",
        "print(d3[6])\n",
        "print(d3[9])"
      ],
      "metadata": {
        "id": "gkRaQQwYcEST",
        "outputId": "19d3c8ca-e104-43a6-ed5d-1d06ea52437a",
        "colab": {
          "base_uri": "https://localhost:8080/"
        }
      },
      "execution_count": 7,
      "outputs": [
        {
          "output_type": "stream",
          "name": "stdout",
          "text": [
            "{3: [1, 2, 3], 6: (4, 5, 6), 9: 'NTT'}\n",
            "[1, 2, 3]\n",
            "(4, 5, 6)\n",
            "NTT\n"
          ]
        }
      ]
    },
    {
      "cell_type": "code",
      "source": [
        "d4 = {(1,2) : 100,\n",
        "      (3,4) : 200,\n",
        "      (5,6) : 300}\n",
        "print(d4[(1,2)])"
      ],
      "metadata": {
        "id": "0jMrwhzadLHU",
        "outputId": "956fe389-811b-464c-e671-85866560fea0",
        "colab": {
          "base_uri": "https://localhost:8080/"
        }
      },
      "execution_count": 8,
      "outputs": [
        {
          "output_type": "stream",
          "name": "stdout",
          "text": [
            "100\n"
          ]
        }
      ]
    },
    {
      "cell_type": "code",
      "source": [
        "d4 = {'hi' : 100,\n",
        "      (3,4) : 200,\n",
        "      (5,6) : 300}\n",
        "print(d4['hi'])"
      ],
      "metadata": {
        "id": "xiP25Rfzdhyi",
        "outputId": "59ee418c-9a66-4034-918e-6ebdaa1617ab",
        "colab": {
          "base_uri": "https://localhost:8080/"
        }
      },
      "execution_count": 10,
      "outputs": [
        {
          "output_type": "stream",
          "name": "stdout",
          "text": [
            "100\n"
          ]
        }
      ]
    },
    {
      "cell_type": "code",
      "source": [
        "# iterating through a Dictionary\n",
        "d1 ={2 : 100,\n",
        "     4 : 200,\n",
        "     6 : 300,\n",
        "     8 : 400,\n",
        "     10 : 500}\n",
        "for key1 in d1:\n",
        "  print(key1)"
      ],
      "metadata": {
        "id": "uTHHiEpjeFvq",
        "outputId": "8b5cf61e-3910-4b62-d81c-04710dce0964",
        "colab": {
          "base_uri": "https://localhost:8080/"
        }
      },
      "execution_count": 14,
      "outputs": [
        {
          "output_type": "stream",
          "name": "stdout",
          "text": [
            "2\n",
            "4\n",
            "6\n",
            "8\n",
            "10\n"
          ]
        }
      ]
    },
    {
      "cell_type": "code",
      "source": [
        "# Iterate through values\n",
        "d1 ={2 : 100,\n",
        "     4 : 200,\n",
        "     6 : 300,\n",
        "     8 : 400,\n",
        "     10 : 500}\n",
        "for values in d1.values():\n",
        "  print(values)\n"
      ],
      "metadata": {
        "id": "QHbCrtYAezbh",
        "outputId": "721df023-934e-4a8f-e778-bc13ad336a83",
        "colab": {
          "base_uri": "https://localhost:8080/"
        }
      },
      "execution_count": 16,
      "outputs": [
        {
          "output_type": "stream",
          "name": "stdout",
          "text": [
            "100\n",
            "200\n",
            "300\n",
            "400\n",
            "500\n"
          ]
        }
      ]
    },
    {
      "cell_type": "code",
      "source": [
        "# Iterate through items\n",
        "d1 ={2 : 100,\n",
        "     4 : 200,\n",
        "     6 : 300,\n",
        "     8 : 400,\n",
        "     10 : 500}\n",
        "for item in d1.items():\n",
        "  print(item)"
      ],
      "metadata": {
        "id": "yL0wd4szfWlE",
        "outputId": "c872fbe7-8016-40cc-ac3f-f952cb514185",
        "colab": {
          "base_uri": "https://localhost:8080/"
        }
      },
      "execution_count": 21,
      "outputs": [
        {
          "output_type": "stream",
          "name": "stdout",
          "text": [
            "(2, 100)\n",
            "(4, 200)\n",
            "(6, 300)\n",
            "(8, 400)\n",
            "(10, 500)\n"
          ]
        }
      ]
    },
    {
      "cell_type": "code",
      "source": [
        "# membership operator\n",
        "d1 ={2 : 100,\n",
        "     4 : 200,\n",
        "     6 : 300,\n",
        "     8 : 400}\n",
        "\n",
        "if 2 in d1 :\n",
        "  print(\"yes\")\n",
        "\n",
        "if 10 not in d1:\n",
        "  print(\"no\")"
      ],
      "metadata": {
        "id": "1t0Ctn8chekz",
        "outputId": "72b3c8b2-1aec-46f5-8f7f-1001caa172fa",
        "colab": {
          "base_uri": "https://localhost:8080/"
        }
      },
      "execution_count": 22,
      "outputs": [
        {
          "output_type": "stream",
          "name": "stdout",
          "text": [
            "yes\n",
            "no\n"
          ]
        }
      ]
    },
    {
      "cell_type": "code",
      "source": [
        "k = [2,3,4,5,6]\n",
        "v = [100,200,300,400,500]   # create dict zip\n",
        "d5 = dict(zip(k,v))\n",
        "print(d5)"
      ],
      "metadata": {
        "id": "EZOp-OGGh-4i",
        "outputId": "10eb8bf2-4876-4658-9111-f2577f632b30",
        "colab": {
          "base_uri": "https://localhost:8080/"
        }
      },
      "execution_count": 23,
      "outputs": [
        {
          "output_type": "stream",
          "name": "stdout",
          "text": [
            "{2: 100, 3: 200, 4: 300, 5: 400, 6: 500}\n"
          ]
        }
      ]
    },
    {
      "cell_type": "code",
      "source": [
        "# assignment\n",
        "s = \"I live in bangalore, bangalore is garden city and beautiful city\"\n"
      ],
      "metadata": {
        "id": "b6WzJL76qvu8"
      },
      "execution_count": null,
      "outputs": []
    }
  ]
}